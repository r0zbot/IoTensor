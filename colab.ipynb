{
  "nbformat": 4,
  "nbformat_minor": 0,
  "metadata": {
    "colab": {
      "name": "colab.ipynb",
      "provenance": [],
      "collapsed_sections": [],
      "include_colab_link": true
    },
    "kernelspec": {
      "name": "python3",
      "display_name": "Python 3"
    }
  },
  "cells": [
    {
      "cell_type": "markdown",
      "metadata": {
        "id": "view-in-github",
        "colab_type": "text"
      },
      "source": [
        "<a href=\"https://colab.research.google.com/github/r0zbot/IoTensor/blob/main/colab.ipynb\" target=\"_parent\"><img src=\"https://colab.research.google.com/assets/colab-badge.svg\" alt=\"Open In Colab\"/></a>"
      ]
    },
    {
      "cell_type": "code",
      "metadata": {
        "id": "uqevIPQ_yNsL",
        "outputId": "8070a6c6-3a28-4b13-c10e-294e5e6a23c1",
        "colab": {
          "base_uri": "https://localhost:8080/",
          "height": 67
        }
      },
      "source": [
        "#teste\n",
        "print(\"oi mundo\")\n",
        "print(\"おはよう世界\")\n",
        "print(\"tchau mundo\")"
      ],
      "execution_count": null,
      "outputs": [
        {
          "output_type": "stream",
          "text": [
            "oi mundo\n",
            "おはよう世界\n",
            "tchau mundo\n"
          ],
          "name": "stdout"
        }
      ]
    },
    {
      "cell_type": "markdown",
      "metadata": {
        "id": "WUHTX-bp1JPW"
      },
      "source": [
        "# Projeto IoTensor - Year Prediction\n",
        "\n",
        "- Nome: Bruno Carneiro da Cunha NUSP:\n",
        "- Nome: Daniel de Souza Martinez NUSP:\n",
        "- Nome: Eduardo do Nascimento Evaristo 10267070:\n",
        "- Nome: Nathalia Orlandi Borin NUSP: 10297884\n",
        "- Nome: Thiago Ferreira NUSP: 10297605\n",
        "\n",
        "Dataset utilizado: https://archive.ics.uci.edu/ml/datasets/YearPredictionMSD"
      ]
    },
    {
      "cell_type": "code",
      "metadata": {
        "id": "GgNQShOy16o1"
      },
      "source": [
        "import tensorflow as tf"
      ],
      "execution_count": null,
      "outputs": []
    },
    {
      "cell_type": "markdown",
      "metadata": {
        "id": "QB9BUP8E2yg2"
      },
      "source": [
        "# Referências\n",
        "\n",
        "- Dua, D. and Graff, C. (2019). UCI Machine Learning Repository [http://archive.ics.uci.edu/ml]. Irvine, CA: University of California, School of Information and Computer Science"
      ]
    }
  ]
}