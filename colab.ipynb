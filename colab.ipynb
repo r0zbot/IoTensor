{
  "nbformat": 4,
  "nbformat_minor": 0,
  "metadata": {
    "colab": {
      "name": "colab.ipynb",
      "provenance": [],
      "collapsed_sections": [],
      "toc_visible": true,
      "include_colab_link": true
    },
    "kernelspec": {
      "name": "python3",
      "display_name": "Python 3"
    },
    "accelerator": "GPU"
  },
  "cells": [
    {
      "cell_type": "markdown",
      "metadata": {
        "id": "view-in-github",
        "colab_type": "text"
      },
      "source": [
        "<a href=\"https://colab.research.google.com/github/r0zbot/IoTensor/blob/main/colab.ipynb\" target=\"_parent\"><img src=\"https://colab.research.google.com/assets/colab-badge.svg\" alt=\"Open In Colab\"/></a>"
      ]
    },
    {
      "cell_type": "markdown",
      "metadata": {
        "id": "WUHTX-bp1JPW"
      },
      "source": [
        "# **Projeto IoTensor - Year Prediction**\n",
        "#### **Membros**\n",
        "- Bruno Carneiro da Cunha NUSP: 10376388\n",
        "- Daniel de Souza Martinez NUSP: 10297709\n",
        "- Eduardo do Nascimento Evaristo 10267070\n",
        "- Nathalia Orlandi Borin NUSP: 10297884\n",
        "- Thiago Cunha Ferreira NUSP: 10297605\n",
        "\n",
        "#### **Dados**\n",
        "O conjunto de dados possui 515.345 instâncias, cada entrada corresponde a uma canção popular diferente lançada entre os anos 1922 e 2011. Para cada canção, temos um vetor de 91 atributos: o ano de lançamento, 12 valores de média de timbre, e 78 valores de covariância de timbre.\n",
        "\n",
        "O objetivo será prever o ano de lançamento de uma canção, dado os 90 atributos de timbre descritos acima. Usaremos 463.715 exemplos para o conjunto de treino, e os últimos 51.630 exemplos para o conjunto de testes. Nenhum artista possui uma canção em ambos os bancos de dados, assim teremos uma maior independência entre os conjuntos.\n",
        "\n",
        "_Obs: Para executar este notebook, é necessário tornar o dataset usado acessível através do Google Drive. Para isso, importe a pasta do Drive abaixo na sua conta (adicionando a pasta compartilhada como atalho para seu Drive). O código irá acessar seu diretório do Google Drive (pedindo antes uma autenticação) e irá procurar por uma pasta similar ao linkado abaixo_\n",
        "\n",
        "#### **Links**\n",
        "* [Dataset](https://archive.ics.uci.edu/ml/datasets/YearPredictionMSD)\n",
        "* [Pasta do drive](https://drive.google.com/drive/folders/1LY8d-l7Fions1NG7WBAJPEQvLDmt-vOi?usp=sharing)\n",
        "* [Repositório](https://github.com/r0zbot/IoTensor)"
      ]
    },
    {
      "cell_type": "markdown",
      "metadata": {
        "id": "iTf93DJm55VZ"
      },
      "source": [
        "## **Preparação dos dados**"
      ]
    },
    {
      "cell_type": "code",
      "metadata": {
        "id": "Lm7PEQZ0bV-g",
        "outputId": "fd3240d2-bcd9-496a-e151-369076d8b1fb",
        "colab": {
          "base_uri": "https://localhost:8080/"
        }
      },
      "source": [
        "# Import das bibliotecas\n",
        "import random\n",
        "from pprint import pprint\n",
        "import tensorflow as tf\n",
        "import pandas as pd\n",
        "import numpy as np\n",
        "import matplotlib.pyplot as plt\n",
        "from sklearn.decomposition import PCA\n",
        "from keras import backend as K\n",
        "from sklearn.preprocessing import StandardScaler \n",
        "\n",
        "# Import do dataset\n",
        "from google.colab import drive\n",
        "drive.mount('/content/drive')"
      ],
      "execution_count": null,
      "outputs": [
        {
          "output_type": "stream",
          "text": [
            "Mounted at /content/drive\n"
          ],
          "name": "stdout"
        }
      ]
    },
    {
      "cell_type": "markdown",
      "metadata": {
        "id": "RbgzcAM2gZR_"
      },
      "source": [
        "## **Seleção de Features**\n",
        "Inicialmente, testamos alguns modelos utilizando todas as 90 features que dispomos, porém os resultados foram insatisfatórios, com o erro na casa dos bilhões.\n",
        "\n",
        "Buscando reduzir o número de features para tornar o processo de treinamento mais efetivo, aplicamos um **PCA - Principal Component Analysis**, algoritmo que identifica as features mais independentes entre si, ou seja, que mais afetam o valor esperado. \n",
        "\n",
        "Dessa forma, escolhemos utilizar apenas as features que mais explicam a variância dos atributos. Neste caso, escolhemos manter 55 componentes para o processo de treinamento, que explicam 90% da variância dos dados.\n",
        "\n",
        "Também aplicamos a padronização das variáveis, deixando com média 0 e desvio padrão 1 para todas. A padronização tenta igualar a relevância numérica das variáveis e facilita no processo de treinamento, evitando números grandes ou pequenos demais."
      ]
    },
    {
      "cell_type": "code",
      "metadata": {
        "id": "GgNQShOy16o1",
        "outputId": "42f55332-814f-4580-a0d1-585ec690c575",
        "colab": {
          "base_uri": "https://localhost:8080/"
        }
      },
      "source": [
        "# Leitura\n",
        "data = pd.read_csv('drive/My Drive/IoTensor/YearPredictionMSD.txt', sep=',', header=None)\n",
        "# Standardization\n",
        "x_std = StandardScaler().fit_transform(data.iloc[:,1:])\n",
        "print(np.mean(x_std))\n",
        "print(np.std(x_std))\n",
        "# Principal Component Analysis\n",
        "pca = PCA(.90)\n",
        "pca_data = pca.fit_transform(x_std)\n",
        "print(pca_data.shape)\n",
        "# Separação do conjunto de dados\n",
        "x_train = pca_data[:463715]\n",
        "x_test = pca_data[463716:]\n",
        "y_train = np.array(data.iloc[:463715, 0])\n",
        "y_test =  np.array(data.iloc[463716:, 0])\n",
        "\n",
        "print('x_train:')\n",
        "print(f'dtype {x_train.dtype} \\nshape {x_train.shape} \\nmin value {np.min(x_train)} \\nmax value {np.max(x_train)} \\n')\n",
        "print('y_train:')\n",
        "print(f'dtype {y_train.dtype} \\nshape {y_train.shape} \\nmin value {np.min(y_train)} \\nmax value {np.max(y_train)} \\n')\n",
        "print('x_test:')\n",
        "print(f'dtype {x_test.dtype} \\nshape {x_test.shape} \\nmin value {np.min(x_test)} \\nmax value {np.max(x_test)} \\n')\n",
        "print('y_test:')\n",
        "print(f'dtype {y_test.dtype} \\nshape {y_test.shape} \\nmin value {np.min(y_test)} \\nmax value {np.max(y_test)} \\n')"
      ],
      "execution_count": null,
      "outputs": [
        {
          "output_type": "stream",
          "text": [
            "3.04555191978422e-19\n",
            "0.9999999999999999\n",
            "(515345, 55)\n",
            "x_train:\n",
            "dtype float64 \n",
            "shape (463715, 55) \n",
            "min value -42.44713027766563 \n",
            "max value 85.93385217029085 \n",
            "\n",
            "y_train:\n",
            "dtype int64 \n",
            "shape (463715,) \n",
            "min value 1922 \n",
            "max value 2011 \n",
            "\n",
            "x_test:\n",
            "dtype float64 \n",
            "shape (51629, 55) \n",
            "min value -39.8742350199825 \n",
            "max value 54.35292721762078 \n",
            "\n",
            "y_test:\n",
            "dtype int64 \n",
            "shape (51629,) \n",
            "min value 1927 \n",
            "max value 2010 \n",
            "\n"
          ],
          "name": "stdout"
        }
      ]
    },
    {
      "cell_type": "code",
      "metadata": {
        "id": "UR7NtjjdDFLh",
        "outputId": "28adb0a9-f7d7-4d37-d625-c9fe6fa2483e",
        "colab": {
          "base_uri": "https://localhost:8080/"
        }
      },
      "source": [
        "# Imprime um exemplo dos dados\n",
        "rand = random.randrange(463715)\n",
        "print(f'x_train[{rand}]')\n",
        "pprint(x_train[random.randrange(463715)])"
      ],
      "execution_count": null,
      "outputs": [
        {
          "output_type": "stream",
          "text": [
            "x_train[290315]\n",
            "array([ 1.80928071e+00, -3.67560973e-01,  2.14416747e+00, -1.58248979e+00,\n",
            "        6.05320250e-01,  2.52264397e+00,  1.13050402e+00, -6.28697722e-01,\n",
            "       -1.00106822e+00, -1.32283569e+00,  3.73792353e-01, -4.35802225e-01,\n",
            "       -1.74934575e+00, -8.92359952e-01, -2.95188574e-01, -9.02203331e-01,\n",
            "        1.86474344e+00,  5.65903029e-01,  9.95291071e-01, -1.42995040e-01,\n",
            "        3.98967539e-01,  6.58618899e-01,  1.20976243e-03, -4.68200749e-01,\n",
            "       -1.41429686e+00,  8.17665711e-01,  4.30906068e-02,  9.79802455e-01,\n",
            "       -9.33260762e-01,  2.57890266e-01,  4.13016151e-01,  6.23333608e-01,\n",
            "       -6.41109537e-01, -1.51556743e-01,  8.23042603e-01, -6.30373245e-02,\n",
            "       -1.51316673e+00,  1.36028533e-01,  1.11251830e+00,  1.00407877e+00,\n",
            "        1.67809664e-01, -1.73339030e-02, -1.32734353e-01,  7.94566998e-01,\n",
            "        9.93359791e-01,  3.92541059e-01,  4.85330007e-01, -3.69544697e-01,\n",
            "       -5.80414887e-01,  5.69569785e-01, -2.80924390e-01, -1.11363283e-01,\n",
            "        3.86511763e-01, -3.05276428e-01,  7.39179249e-01])\n"
          ],
          "name": "stdout"
        }
      ]
    },
    {
      "cell_type": "markdown",
      "metadata": {
        "id": "GAOsO7yxBfEY"
      },
      "source": [
        "## **Treinamento e validação**\n",
        "Escolhemos um modelo de rede neural sequencial: isto é, os inputs caminham sequencialmente pelas camadas da rede, sendo que nenhuma saída de uma camada se conecte na entrada de uma camada anterior.\n",
        "\n",
        "Após alguns testes nos parâmetros, chegamos num modelo cujo erro quadrático ficou na ordem de grandeza de $10^{2}$\n",
        "\n",
        "Nosso modelo final ficou com 4 camadas, com 30, 15, 5 e 1 neurônios, respectivamente.\n",
        "\n",
        "O modelo foi treinado usando o algoritmo de Adam, uma variação do algoritmo **Stochastic Gradient Descent**, que escolhemos por já termos estudado o **SGD** na matéria de Machine Learning. A função de custo que buscamos otimizar foi o **Erro Quadrático**.\n",
        "\n",
        "80% dos dados (412276 instâncias) foram usados para **treinamento** e os 20% restantes (103069) usados para **validação**."
      ]
    },
    {
      "cell_type": "code",
      "metadata": {
        "id": "0bKT8qPOgb5l"
      },
      "source": [
        "model = tf.keras.Sequential( [\n",
        "    tf.keras.layers.Dense(units=30, input_shape=[55]),\n",
        "    tf.keras.layers.Dense(units=15),\n",
        "    tf.keras.layers.Dense(units=5),\n",
        "    tf.keras.layers.Dense(units=1)\n",
        "])\n",
        "\n",
        "model.compile(loss='mean_squared_error',                # error function\n",
        "              optimizer=tf.keras.optimizers.Adam(0.1))  # como o modelo se atualiza baseado nas amostras e no erro                                          "
      ],
      "execution_count": null,
      "outputs": []
    },
    {
      "cell_type": "code",
      "metadata": {
        "id": "FoCYkF47ghUG",
        "outputId": "b1b54082-6a29-4651-8f72-8f01f1e86445",
        "colab": {
          "base_uri": "https://localhost:8080/"
        }
      },
      "source": [
        "history = model.fit(x_train, y_train, validation_split=0.2, epochs=20, verbose=True)"
      ],
      "execution_count": null,
      "outputs": [
        {
          "output_type": "stream",
          "text": [
            "Epoch 1/20\n",
            "11593/11593 [==============================] - 23s 2ms/step - loss: 1879.7308 - val_loss: 121.9284\n",
            "Epoch 2/20\n",
            "11593/11593 [==============================] - 23s 2ms/step - loss: 5578.9062 - val_loss: 119.2402\n",
            "Epoch 3/20\n",
            "11593/11593 [==============================] - 23s 2ms/step - loss: 11446.9863 - val_loss: 116.5502\n",
            "Epoch 4/20\n",
            "11593/11593 [==============================] - 22s 2ms/step - loss: 1514.9703 - val_loss: 108.5188\n",
            "Epoch 5/20\n",
            "11593/11593 [==============================] - 23s 2ms/step - loss: 3968.1521 - val_loss: 114.5381\n",
            "Epoch 6/20\n",
            "11593/11593 [==============================] - 23s 2ms/step - loss: 804.6878 - val_loss: 106.7677\n",
            "Epoch 7/20\n",
            "11593/11593 [==============================] - 23s 2ms/step - loss: 1396.8527 - val_loss: 110.4154\n",
            "Epoch 8/20\n",
            "11593/11593 [==============================] - 23s 2ms/step - loss: 1317.0703 - val_loss: 127.4711\n",
            "Epoch 9/20\n",
            "11593/11593 [==============================] - 23s 2ms/step - loss: 1672.9771 - val_loss: 119.1095\n",
            "Epoch 10/20\n",
            "11593/11593 [==============================] - 23s 2ms/step - loss: 1741.9774 - val_loss: 118.9316\n",
            "Epoch 11/20\n",
            "11593/11593 [==============================] - 23s 2ms/step - loss: 129.2603 - val_loss: 117.7589\n",
            "Epoch 12/20\n",
            "11593/11593 [==============================] - 23s 2ms/step - loss: 32305.3594 - val_loss: 4533.2231\n",
            "Epoch 13/20\n",
            "11593/11593 [==============================] - 24s 2ms/step - loss: 5153.0537 - val_loss: 153.8727\n",
            "Epoch 14/20\n",
            "11593/11593 [==============================] - 23s 2ms/step - loss: 2171.6411 - val_loss: 138.5755\n",
            "Epoch 15/20\n",
            "11593/11593 [==============================] - 23s 2ms/step - loss: 1688.1666 - val_loss: 117.8879\n",
            "Epoch 16/20\n",
            "11593/11593 [==============================] - 23s 2ms/step - loss: 3391.1536 - val_loss: 121.2938\n",
            "Epoch 17/20\n",
            "11593/11593 [==============================] - 23s 2ms/step - loss: 3837.5115 - val_loss: 134.3251\n",
            "Epoch 18/20\n",
            "11593/11593 [==============================] - 23s 2ms/step - loss: 7555.9302 - val_loss: 126.8258\n",
            "Epoch 19/20\n",
            "11593/11593 [==============================] - 23s 2ms/step - loss: 1144.1790 - val_loss: 176.0378\n",
            "Epoch 20/20\n",
            "11593/11593 [==============================] - 23s 2ms/step - loss: 5744.5210 - val_loss: 125.4271\n"
          ],
          "name": "stdout"
        }
      ]
    },
    {
      "cell_type": "code",
      "metadata": {
        "id": "OGWpgDhAH8T8",
        "outputId": "de24168f-ad13-40be-a2f9-7204f5d7c06a",
        "colab": {
          "base_uri": "https://localhost:8080/",
          "height": 307
        }
      },
      "source": [
        "# Gráfico da evolução do erro com as épocas\n",
        "plt.subplot(2, 1, 1)\n",
        "plt.plot(history.history['val_loss'], color='blue', label='mean_squared_error na validação')\n",
        "plt.subplots_adjust(top=2.0)\n",
        "plt.legend()\n",
        "plt.yscale('log')\n",
        "plt.ylabel('Error')\n",
        "plt.xlabel(\"Epochs\")\n",
        "plt.grid()\n",
        "plt.show()"
      ],
      "execution_count": null,
      "outputs": [
        {
          "output_type": "display_data",
          "data": {
            "image/png": "[encoded data removed]",
            "text/plain": [
              "<Figure size 432x288 with 1 Axes>"
            ]
          },
          "metadata": {
            "tags": [],
            "needs_background": "light"
          }
        }
      ]
    },
    {
      "cell_type": "code",
      "metadata": {
        "id": "_2K0_nsa27bv",
        "outputId": "ed257973-e9ea-49ae-d6a9-11e4541cd47f",
        "colab": {
          "base_uri": "https://localhost:8080/"
        }
      },
      "source": [
        "# Algumas previsões no conjunto de treinamento\n",
        "for i in range(3):\n",
        "    r = random.randrange(463715)\n",
        "    y = int(model.predict(np.array([np.array(x_train[r])])))\n",
        "    print(f'x_train[{r}]:\\n    y_pred {y}\\n    y_true: {y_train[r]}')"
      ],
      "execution_count": null,
      "outputs": [
        {
          "output_type": "stream",
          "text": [
            "x_train[424822]:\n",
            "    y_pred 2000\n",
            "    y_true: 1986\n",
            "x_train[300285]:\n",
            "    y_pred 2002\n",
            "    y_true: 2002\n",
            "x_train[145307]:\n",
            "    y_pred 2001\n",
            "    y_true: 2004\n"
          ],
          "name": "stdout"
        }
      ]
    },
    {
      "cell_type": "markdown",
      "metadata": {
        "id": "o3qwD-OvQ3y2"
      },
      "source": [
        "## **Avaliação no conjunto de testes**\n",
        "Nosso erro médio em anos foi de 11 anos, que consideramos de certa forma aceitável pois a faixa de valores é razoavelmente grande (2011-1922 = 89 anos)\n",
        "\n",
        "Analisamos também que nosso dataset é bastante desbalanceado: mais de 75% dos dados estão entre 1994-2011, que corresponde a 19% dos valores possíveis.\n",
        "\n",
        "Por fim, plotamos as distribuições dos resultados do modelo para o conjunto de teste e os anos esperados.\n"
      ]
    },
    {
      "cell_type": "code",
      "metadata": {
        "id": "2DrcePU7U-MW",
        "outputId": "07714872-a019-4016-8dbf-8b88500ddf6b",
        "colab": {
          "base_uri": "https://localhost:8080/"
        }
      },
      "source": [
        "# Erro médio no conjunto de testes\n",
        "import math\n",
        "loss = model.evaluate(x_test, y_test)\n",
        "print(f'Erro médio: {loss}\\nErro médio em anos: {int(math.sqrt(loss))}')"
      ],
      "execution_count": null,
      "outputs": [
        {
          "output_type": "stream",
          "text": [
            "1614/1614 [==============================] - 2s 1ms/step - loss: 123.0871\n",
            "Erro médio: 123.08705139160156\n",
            "Erro médio em anos: 11\n"
          ],
          "name": "stdout"
        }
      ]
    },
    {
      "cell_type": "code",
      "metadata": {
        "id": "moMEGq9F1uUp",
        "outputId": "dacd779f-cf29-4fdb-f17c-e93b7cd7a4f8",
        "colab": {
          "base_uri": "https://localhost:8080/",
          "height": 297
        }
      },
      "source": [
        "# Distribuição do conjunto de treinamento\n",
        "pd.DataFrame(y_train).describe()"
      ],
      "execution_count": null,
      "outputs": [
        {
          "output_type": "execute_result",
          "data": {
            "text/html": [
              "<div>\n",
              "<style scoped>\n",
              "    .dataframe tbody tr th:only-of-type {\n",
              "        vertical-align: middle;\n",
              "    }\n",
              "\n",
              "    .dataframe tbody tr th {\n",
              "        vertical-align: top;\n",
              "    }\n",
              "\n",
              "    .dataframe thead th {\n",
              "        text-align: right;\n",
              "    }\n",
              "</style>\n",
              "<table border=\"1\" class=\"dataframe\">\n",
              "  <thead>\n",
              "    <tr style=\"text-align: right;\">\n",
              "      <th></th>\n",
              "      <th>0</th>\n",
              "    </tr>\n",
              "  </thead>\n",
              "  <tbody>\n",
              "    <tr>\n",
              "      <th>count</th>\n",
              "      <td>463715.000000</td>\n",
              "    </tr>\n",
              "    <tr>\n",
              "      <th>mean</th>\n",
              "      <td>1998.386095</td>\n",
              "    </tr>\n",
              "    <tr>\n",
              "      <th>std</th>\n",
              "      <td>10.939767</td>\n",
              "    </tr>\n",
              "    <tr>\n",
              "      <th>min</th>\n",
              "      <td>1922.000000</td>\n",
              "    </tr>\n",
              "    <tr>\n",
              "      <th>25%</th>\n",
              "      <td>1994.000000</td>\n",
              "    </tr>\n",
              "    <tr>\n",
              "      <th>50%</th>\n",
              "      <td>2002.000000</td>\n",
              "    </tr>\n",
              "    <tr>\n",
              "      <th>75%</th>\n",
              "      <td>2006.000000</td>\n",
              "    </tr>\n",
              "    <tr>\n",
              "      <th>max</th>\n",
              "      <td>2011.000000</td>\n",
              "    </tr>\n",
              "  </tbody>\n",
              "</table>\n",
              "</div>"
            ],
            "text/plain": [
              "                   0\n",
              "count  463715.000000\n",
              "mean     1998.386095\n",
              "std        10.939767\n",
              "min      1922.000000\n",
              "25%      1994.000000\n",
              "50%      2002.000000\n",
              "75%      2006.000000\n",
              "max      2011.000000"
            ]
          },
          "metadata": {
            "tags": []
          },
          "execution_count": 29
        }
      ]
    },
    {
      "cell_type": "code",
      "metadata": {
        "id": "5ItBfuVYo9GS",
        "outputId": "bb2399b8-61c1-4297-d993-15020cc6d4e9",
        "colab": {
          "base_uri": "https://localhost:8080/",
          "height": 421
        }
      },
      "source": [
        "# Plot da distribuição no conjunto de treinamento\n",
        "import seaborn as sns\n",
        "train_fig = plt.figure(figsize=(10, 6))\n",
        "train_ax = train_fig.add_subplot(title='Train Data Distribution', xlabel='Years', ylabel='Count')\n",
        "sns.histplot({'y_train':y_train}, discrete=True, ax=train_ax)"
      ],
      "execution_count": null,
      "outputs": [
        {
          "output_type": "execute_result",
          "data": {
            "text/plain": [
              "<matplotlib.axes._subplots.AxesSubplot at 0x7f7c94e0e358>"
            ]
          },
          "metadata": {
            "tags": []
          },
          "execution_count": 30
        },
        {
          "output_type": "display_data",
          "data": {
            "image/png": "[encoded data removed]",
            "text/plain": [
              "<Figure size 720x432 with 1 Axes>"
            ]
          },
          "metadata": {
            "tags": [],
            "needs_background": "light"
          }
        }
      ]
    },
    {
      "cell_type": "code",
      "metadata": {
        "id": "FdT5iFn4pg5j"
      },
      "source": [
        "# Roda o modelo para todos no conjunto de teste\n",
        "y_pred = model.predict(x_test)"
      ],
      "execution_count": null,
      "outputs": []
    },
    {
      "cell_type": "code",
      "metadata": {
        "id": "21jNtFQVxzuo",
        "outputId": "726db371-0636-435a-88d7-ebeac05f3cfc",
        "colab": {
          "base_uri": "https://localhost:8080/",
          "height": 421
        }
      },
      "source": [
        "# Comparação no conjunto de testes\n",
        "test_fig = plt.figure(figsize=(10, 6))\n",
        "test_ax = test_fig.add_subplot(title='Distribution Comparison', xlabel='Years', ylabel='Count')\n",
        "sns.histplot({'y_true':y_test, 'y_pred':y_pred[:,0]}, discrete=True, ax=test_ax)"
      ],
      "execution_count": null,
      "outputs": [
        {
          "output_type": "execute_result",
          "data": {
            "text/plain": [
              "<matplotlib.axes._subplots.AxesSubplot at 0x7f7c94f2d7b8>"
            ]
          },
          "metadata": {
            "tags": []
          },
          "execution_count": 32
        },
        {
          "output_type": "display_data",
          "data": {
            "image/png": "[encoded data removed]",
            "text/plain": [
              "<Figure size 720x432 with 1 Axes>"
            ]
          },
          "metadata": {
            "tags": [],
            "needs_background": "light"
          }
        }
      ]
    },
    {
      "cell_type": "markdown",
      "metadata": {
        "id": "QB9BUP8E2yg2"
      },
      "source": [
        "# **Referências**\n",
        "\n",
        "- Dua, D. and Graff, C. (2019). UCI Machine Learning Repository [http://archive.ics.uci.edu/ml]. Irvine, CA: University of California, School of Information and Computer Science"
      ]
    }
  ]
}