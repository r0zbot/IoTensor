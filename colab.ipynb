{
  "nbformat": 4,
  "nbformat_minor": 0,
  "metadata": {
    "colab": {
      "name": "colab.ipynb",
      "provenance": [],
      "collapsed_sections": [],
      "toc_visible": true,
      "include_colab_link": true
    },
    "kernelspec": {
      "name": "python3",
      "display_name": "Python 3"
    },
    "accelerator": "GPU"
  },
  "cells": [
    {
      "cell_type": "markdown",
      "metadata": {
        "id": "view-in-github",
        "colab_type": "text"
      },
      "source": [
        "<a href=\"https://colab.research.google.com/github/r0zbot/IoTensor/blob/main/colab.ipynb\" target=\"_parent\"><img src=\"https://colab.research.google.com/assets/colab-badge.svg\" alt=\"Open In Colab\"/></a>"
      ]
    },
    {
      "cell_type": "markdown",
      "metadata": {
        "id": "WUHTX-bp1JPW"
      },
      "source": [
        "# Projeto IoTensor - Year Prediction\n",
        "\n",
        "- Nome: Bruno Carneiro da Cunha NUSP:\n",
        "- Nome: Daniel de Souza Martinez NUSP: 10297709\n",
        "- Nome: Eduardo do Nascimento Evaristo 10267070\n",
        "- Nome: Nathalia Orlandi Borin NUSP: 10297884\n",
        "- Nome: Thiago Ferreira NUSP: 10297605\n",
        "\n",
        "Dataset utilizado: https://archive.ics.uci.edu/ml/datasets/YearPredictionMSD\n",
        "\n",
        "Pasta do drive: https://drive.google.com/drive/folders/1LY8d-l7Fions1NG7WBAJPEQvLDmt-vOi?usp=sharing"
      ]
    },
    {
      "cell_type": "code",
      "metadata": {
        "id": "Lm7PEQZ0bV-g",
        "outputId": "fb8febf9-21ea-4cff-ee8e-5a325f23a58f",
        "colab": {
          "base_uri": "https://localhost:8080/"
        }
      },
      "source": [
        "from google.colab import drive\n",
        "drive.mount('/content/drive')"
      ],
      "execution_count": null,
      "outputs": [
        {
          "output_type": "stream",
          "text": [
            "Drive already mounted at /content/drive; to attempt to forcibly remount, call drive.mount(\"/content/drive\", force_remount=True).\n"
          ],
          "name": "stdout"
        }
      ]
    },
    {
      "cell_type": "code",
      "metadata": {
        "id": "GgNQShOy16o1",
        "outputId": "6935bb36-53c8-4e23-f921-e7a1393c5327",
        "colab": {
          "base_uri": "https://localhost:8080/"
        }
      },
      "source": [
        "import tensorflow as tf\n",
        "import pandas as pd\n",
        "from sklearn.decomposition import PCA\n",
        "\n",
        "import numpy as np\n",
        "\n",
        "data = pd.read_csv('drive/My Drive/IoTensor/YearPredictionMSD.txt', sep=',', header=None)\n",
        "\n",
        "print(data)"
      ],
      "execution_count": null,
      "outputs": [
        {
          "output_type": "stream",
          "text": [
            "          0         1         2   ...        88         89        90\n",
            "0       2001  49.94357  21.47114  ...  -1.82223  -27.46348   2.26327\n",
            "1       2001  48.73215  18.42930  ...  12.04941   58.43453  26.92061\n",
            "2       2001  50.95714  31.85602  ...  -0.05859   39.67068  -0.66345\n",
            "3       2001  48.24750  -1.89837  ...   9.90558  199.62971  18.85382\n",
            "4       2001  50.97020  42.20998  ...   7.88713   55.66926  28.74903\n",
            "...      ...       ...       ...  ...       ...        ...       ...\n",
            "515340  2006  51.28467  45.88068  ...   3.42901  -41.14721 -15.46052\n",
            "515341  2006  49.87870  37.93125  ...  12.96552   92.11633  10.88815\n",
            "515342  2006  45.12852  12.65758  ...  -6.07171   53.96319  -8.09364\n",
            "515343  2006  44.16614  32.38368  ...  20.32240   14.83107  39.74909\n",
            "515344  2005  51.85726  59.11655  ...  -5.51512   32.35602  12.17352\n",
            "\n",
            "[515345 rows x 91 columns]\n"
          ],
          "name": "stdout"
        }
      ]
    },
    {
      "cell_type": "code",
      "metadata": {
        "id": "5G3WOd9EfREr"
      },
      "source": [
        "# %%\n",
        "pca = PCA(n_components=30)\n",
        "\n",
        "pca_data = pca.fit_transform(data.iloc[:, 1:])\n",
        "data_train = pca_data[:463715]\n",
        "data_test = pca_data[463716:]\n",
        "\n",
        "labels_train = np.array(data.iloc[:463715, 0])\n",
        "labels_test =  np.array(data.iloc[463716:, 0])"
      ],
      "execution_count": null,
      "outputs": []
    },
    {
      "cell_type": "code",
      "metadata": {
        "id": "7SVlug9YgDZ7",
        "outputId": "62a1405c-85ba-4866-b81b-919d65ac27b8",
        "colab": {
          "base_uri": "https://localhost:8080/"
        }
      },
      "source": [
        "print(data_train.shape)\n",
        "print(data_test.shape)"
      ],
      "execution_count": null,
      "outputs": [
        {
          "output_type": "stream",
          "text": [
            "(463715, 30)\n",
            "(51629, 30)\n"
          ],
          "name": "stdout"
        }
      ]
    },
    {
      "cell_type": "code",
      "metadata": {
        "id": "0bKT8qPOgb5l"
      },
      "source": [
        "# Criando a camada de aprendizado com o Keras\n",
        "l0 = tf.keras.layers.Dense(units=12, input_shape=[30])\n",
        "l1 = tf.keras.layers.Dense(units=6)\n",
        "l2 = tf.keras.layers.Dense(units=1)\n",
        "\n",
        "# Iniciando o modelo\n",
        "model = tf.keras.Sequential( [ l0, l1, l2] )\n",
        "# Compilando o modelo\n",
        "model.compile(loss='mean_squared_error', # função que mede quão preciso é o modelo\n",
        "              optimizer=tf.keras.optimizers.Adam(0.1))  # como o modelo se atualiza com base as amostras e na função de loss                                                 "
      ],
      "execution_count": null,
      "outputs": []
    },
    {
      "cell_type": "code",
      "metadata": {
        "id": "FoCYkF47ghUG",
        "outputId": "9f2b5511-5030-4fd1-f9e8-b24b93ad09e1",
        "colab": {
          "base_uri": "https://localhost:8080/"
        }
      },
      "source": [
        "# Treinando o modelo\n",
        "\n",
        "\n",
        "labels_train = np.array(data.iloc[:463715, 0])\n",
        "dados = np.array(data_train)\n",
        "#print(labels.shape)\n",
        "print(dados.shape)\n",
        "history = model.fit(dados, labels_train, epochs=10, verbose=True)\n",
        "print(\"Finished training the model\")"
      ],
      "execution_count": null,
      "outputs": [
        {
          "output_type": "stream",
          "text": [
            "(463715, 30)\n",
            "Epoch 1/10\n",
            "14492/14492 [==============================] - 25s 2ms/step - loss: 2460561.0000\n",
            "Epoch 2/10\n",
            "14492/14492 [==============================] - 26s 2ms/step - loss: 57004.1289\n",
            "Epoch 3/10\n",
            "14492/14492 [==============================] - 25s 2ms/step - loss: 14317552.0000\n",
            "Epoch 4/10\n",
            "14492/14492 [==============================] - 25s 2ms/step - loss: 16203.0918\n",
            "Epoch 5/10\n",
            "14492/14492 [==============================] - 24s 2ms/step - loss: 1196231.0000\n",
            "Epoch 6/10\n",
            "14492/14492 [==============================] - 24s 2ms/step - loss: 1367176.3750\n",
            "Epoch 7/10\n",
            "14492/14492 [==============================] - 24s 2ms/step - loss: 134427.1250\n",
            "Epoch 8/10\n",
            "14492/14492 [==============================] - 24s 2ms/step - loss: 362390.9688\n",
            "Epoch 9/10\n",
            "14492/14492 [==============================] - 24s 2ms/step - loss: 185995.0312\n",
            "Epoch 10/10\n",
            "14492/14492 [==============================] - 24s 2ms/step - loss: 795467.1875\n",
            "Finished training the model\n"
          ],
          "name": "stdout"
        }
      ]
    },
    {
      "cell_type": "code",
      "metadata": {
        "id": "3dn22egU0-6p"
      },
      "source": [
        "a = np.array(new_test[732])\n",
        "c = [a]\n",
        "print(data_test.iloc[732,0])\n",
        "model.predict(np.array(c))"
      ],
      "execution_count": null,
      "outputs": []
    },
    {
      "cell_type": "code",
      "metadata": {
        "id": "_2K0_nsa27bv"
      },
      "source": [
        "# Avaliação do modelo\n",
        "_, acc = model.evaluate(new_test, verbose=2)\n",
        "print(acc)\n",
        "# Visualização\n",
        "import matplotlib.pyplot as plt\n",
        "plt.subplot(2, 1, 1)\n",
        "plt.title('Loss')\n",
        "plt.plot(history.history['loss'], color='green', label='Modelo')\n",
        "plt.subplots_adjust(top=2.0)\n",
        "plt.legend()\n",
        "plt.grid()\n",
        "plt.show()"
      ],
      "execution_count": null,
      "outputs": []
    },
    {
      "cell_type": "markdown",
      "metadata": {
        "id": "QB9BUP8E2yg2"
      },
      "source": [
        "# Referências\n",
        "\n",
        "- Dua, D. and Graff, C. (2019). UCI Machine Learning Repository [http://archive.ics.uci.edu/ml]. Irvine, CA: University of California, School of Information and Computer Science"
      ]
    }
  ]
}